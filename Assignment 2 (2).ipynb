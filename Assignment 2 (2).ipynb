{
 "cells": [
  {
   "cell_type": "markdown",
   "id": "ea5397b2-af9d-45d3-8240-f050c35a911d",
   "metadata": {},
   "source": [
    "### Que1. Discuss string slicing and provide examples."
   ]
  },
  {
   "cell_type": "markdown",
   "id": "524e0bcf-3826-457f-88e0-e0b761c7b3e4",
   "metadata": {},
   "source": [
    "String slicing in Python is a way to access a portion or \"slice\" of a string. Strings in Python are sequences of characters, and each character in a string has an index number. The first character has an index of 0, the second has an index of 1, and so on. Negative indices can be used to start counting from the end of the string, where -1 is the last character."
   ]
  },
  {
   "cell_type": "markdown",
   "id": "9a32d15d-40e7-41f8-8ab6-e063951934eb",
   "metadata": {},
   "source": [
    "##### Description: \n",
    "Characters arranged in an unchangeable order. Consider writing a sentence, a paragraph, or a piece of material."
   ]
  },
  {
   "cell_type": "markdown",
   "id": "51fd4772-3f1c-4f90-bd24-128fb594d210",
   "metadata": {},
   "source": [
    "##### Operations: \n",
    "Each character in the string can be accessed by its index, or position. Substrings can be extracted using slicing. Strings can be joined together and altered using a variety of techniques "
   ]
  },
  {
   "cell_type": "markdown",
   "id": "a1e10239-7636-4ee3-a5c9-bcd31ff1e6d6",
   "metadata": {},
   "source": [
    "##### Syntax of String Slicing\n",
    "\n",
    "The general syntax for string slicing is:\n",
    "\n",
    "python\n",
    "string[start:stop:step]\n"
   ]
  },
  {
   "cell_type": "markdown",
   "id": "b649d64f-ef9f-4766-a42f-83d19ebf90c1",
   "metadata": {},
   "source": [
    "- start: The index at which the slice starts (inclusive). If omitted, it defaults to the beginning of the string.\n",
    "- stop: The index at which the slice stops (exclusive). If omitted, it defaults to the end of the string.\n",
    "- step: The interval between each character in the slice. If omitted, it defaults to 1."
   ]
  },
  {
   "cell_type": "markdown",
   "id": "9d066c6c-23bf-49df-8ba6-a51540a2d7aa",
   "metadata": {},
   "source": [
    "#### Examples:\n"
   ]
  },
  {
   "cell_type": "markdown",
   "id": "64a39187-d054-4850-ad80-64efb20fbdeb",
   "metadata": {},
   "source": [
    "##### Basic Slicing"
   ]
  },
  {
   "cell_type": "code",
   "execution_count": 1,
   "id": "32a412df-5f04-4171-9bfb-11492da9632d",
   "metadata": {},
   "outputs": [],
   "source": [
    "text = \"I am Aalind\""
   ]
  },
  {
   "cell_type": "code",
   "execution_count": 2,
   "id": "5db7b547-50da-4935-963c-914204979884",
   "metadata": {},
   "outputs": [
    {
     "data": {
      "text/plain": [
       "'I am '"
      ]
     },
     "execution_count": 2,
     "metadata": {},
     "output_type": "execute_result"
    }
   ],
   "source": [
    "text[0:5] #Slice from index 0 to 5"
   ]
  },
  {
   "cell_type": "code",
   "execution_count": 3,
   "id": "2e3c4117-2781-49b5-a5e4-a41fd6e0e540",
   "metadata": {},
   "outputs": [
    {
     "data": {
      "text/plain": [
       "'Aalind'"
      ]
     },
     "execution_count": 3,
     "metadata": {},
     "output_type": "execute_result"
    }
   ],
   "source": [
    "text[5:] # lice from index 7 to the end"
   ]
  },
  {
   "cell_type": "code",
   "execution_count": 4,
   "id": "c6d5f1c0-d593-4285-91a3-250e277da22a",
   "metadata": {},
   "outputs": [
    {
     "data": {
      "text/plain": [
       "'I am '"
      ]
     },
     "execution_count": 4,
     "metadata": {},
     "output_type": "execute_result"
    }
   ],
   "source": [
    "text[:5] #Slice from the beginning to index 5"
   ]
  },
  {
   "cell_type": "markdown",
   "id": "eff8ff01-7a27-4091-8d5c-38b585b959ab",
   "metadata": {},
   "source": [
    "##### Using Negative Indices"
   ]
  },
  {
   "cell_type": "code",
   "execution_count": 5,
   "id": "1d5240e2-28cc-4bbf-9642-4f4878776944",
   "metadata": {},
   "outputs": [],
   "source": [
    "text = \"I am Aalind\""
   ]
  },
  {
   "cell_type": "code",
   "execution_count": 6,
   "id": "cfce0808-9b50-4c89-bf37-149cc865cb32",
   "metadata": {},
   "outputs": [
    {
     "data": {
      "text/plain": [
       "'Aalind'"
      ]
     },
     "execution_count": 6,
     "metadata": {},
     "output_type": "execute_result"
    }
   ],
   "source": [
    "text[-6:] # Slice the last 6 characters"
   ]
  },
  {
   "cell_type": "code",
   "execution_count": 7,
   "id": "84aad15d-51f0-400d-9aeb-8098b79b65e4",
   "metadata": {},
   "outputs": [
    {
     "data": {
      "text/plain": [
       "'I am '"
      ]
     },
     "execution_count": 7,
     "metadata": {},
     "output_type": "execute_result"
    }
   ],
   "source": [
    "text[:-6] #Slice everything except the last character"
   ]
  },
  {
   "cell_type": "markdown",
   "id": "10a5e43c-b985-4629-a397-d71c623132dd",
   "metadata": {},
   "source": [
    "#####  Using Step"
   ]
  },
  {
   "cell_type": "code",
   "execution_count": 8,
   "id": "75aed29d-f2b6-4715-abf4-272a77883b99",
   "metadata": {},
   "outputs": [],
   "source": [
    "text = \"I am Aalind\" # Slice every second character"
   ]
  },
  {
   "cell_type": "code",
   "execution_count": 9,
   "id": "914b6b58-125e-424e-a68f-acd054764218",
   "metadata": {},
   "outputs": [
    {
     "data": {
      "text/plain": [
       "'Ia aid'"
      ]
     },
     "execution_count": 9,
     "metadata": {},
     "output_type": "execute_result"
    }
   ],
   "source": [
    "text[::2]"
   ]
  },
  {
   "cell_type": "code",
   "execution_count": 10,
   "id": "0459a339-4d06-46ae-9576-2477bbb2c18d",
   "metadata": {},
   "outputs": [
    {
     "data": {
      "text/plain": [
       "'dnilaA ma I'"
      ]
     },
     "execution_count": 10,
     "metadata": {},
     "output_type": "execute_result"
    }
   ],
   "source": [
    "text[::-1] # Reverse the string"
   ]
  },
  {
   "cell_type": "markdown",
   "id": "2c4e5255-f61e-4999-aa50-86096400c473",
   "metadata": {},
   "source": [
    "##### Omitting Indices"
   ]
  },
  {
   "cell_type": "code",
   "execution_count": 11,
   "id": "a5c85e94-651f-4f2f-b8ab-d2ff9e7cfb30",
   "metadata": {},
   "outputs": [],
   "source": [
    "text = \"I am Aalind\""
   ]
  },
  {
   "cell_type": "code",
   "execution_count": 12,
   "id": "e0621aab-143b-4ce1-bea5-ff2ffd71c5bd",
   "metadata": {},
   "outputs": [
    {
     "data": {
      "text/plain": [
       "'I am Aalind'"
      ]
     },
     "execution_count": 12,
     "metadata": {},
     "output_type": "execute_result"
    }
   ],
   "source": [
    "text[:] #Full string"
   ]
  },
  {
   "cell_type": "code",
   "execution_count": 13,
   "id": "7cdbc712-07be-4d6b-b96e-209cc6211c3c",
   "metadata": {},
   "outputs": [
    {
     "data": {
      "text/plain": [
       "'I am '"
      ]
     },
     "execution_count": 13,
     "metadata": {},
     "output_type": "execute_result"
    }
   ],
   "source": [
    "text[:5] # Slice from the beginning to index 5, omitting the start"
   ]
  },
  {
   "cell_type": "code",
   "execution_count": 14,
   "id": "6d8693a5-e6ae-4f18-8466-419d038a2c06",
   "metadata": {},
   "outputs": [
    {
     "data": {
      "text/plain": [
       "'Aalind'"
      ]
     },
     "execution_count": 14,
     "metadata": {},
     "output_type": "execute_result"
    }
   ],
   "source": [
    "text[5:] # Slice from index 7 to the end, omitting the end"
   ]
  },
  {
   "cell_type": "markdown",
   "id": "37429c1b-d617-4b66-b76c-9de95740d6f4",
   "metadata": {},
   "source": [
    "#### Common Uses of String Slicing"
   ]
  },
  {
   "cell_type": "markdown",
   "id": "56091450-d426-43ae-9eb6-31a605f23e35",
   "metadata": {},
   "source": [
    "- Extracting substrings: You can easily get any part of the string by specifying the desired range of indices.\n",
    "- Reversing a string: By using a step of -1, you can quickly reverse the string.\n",
    "- Skipping characters: By using a step greater than 1, you can create a slice that skips characters."
   ]
  },
  {
   "cell_type": "markdown",
   "id": "59bdc78e-9cbf-4af9-923e-00e8a444ca2d",
   "metadata": {},
   "source": [
    "String slicing is a powerful feature in Python that allows for flexible and efficient string manipulation."
   ]
  },
  {
   "cell_type": "markdown",
   "id": "3dbc0f2b-f948-4f17-b24b-0633221f3905",
   "metadata": {},
   "source": [
    "### Que2. Explain the key features of lists in python."
   ]
  },
  {
   "cell_type": "markdown",
   "id": "29e75358-d370-4014-92b1-5bb21433e6e7",
   "metadata": {},
   "source": [
    "Lists in Python are one of the most versatile and commonly used data structures. They are ordered, mutable (i.e., changeable), and can store elements of different data types. Here are the key features of lists in Python:\n"
   ]
  },
  {
   "cell_type": "markdown",
   "id": "7ccf7b9b-367e-4ba2-a340-3354a49db96a",
   "metadata": {},
   "source": [
    "#### 1. *Ordered Collection*"
   ]
  },
  {
   "cell_type": "markdown",
   "id": "c58586cb-4bff-4ae6-9d40-ebc19aa2a469",
   "metadata": {},
   "source": [
    "Lists maintain the order of elements as they were inserted. This means that if you create a list, the elements will remain in the same sequence unless explicitly modified.\n",
    "   "
   ]
  },
  {
   "cell_type": "code",
   "execution_count": 15,
   "id": "e602fac0-3b0a-47bd-a803-72026d2f568f",
   "metadata": {},
   "outputs": [
    {
     "data": {
      "text/plain": [
       "[1, 2, 3, 4, 5]"
      ]
     },
     "execution_count": 15,
     "metadata": {},
     "output_type": "execute_result"
    }
   ],
   "source": [
    "list_collection = [1,2,3,4,5]\n",
    "list_collection"
   ]
  },
  {
   "cell_type": "markdown",
   "id": "5158dcb6-423d-4b7e-9811-34b778ae8a5d",
   "metadata": {},
   "source": [
    "#### 2. Mutable"
   ]
  },
  {
   "cell_type": "markdown",
   "id": "427c0c48-e68d-43b7-baba-7e3f9e52b65e",
   "metadata": {},
   "source": [
    "Lists are mutable, which means you can change, add, or remove elements after the list has been created."
   ]
  },
  {
   "cell_type": "code",
   "execution_count": 16,
   "id": "ece75d78-2898-4dd4-94a1-d65c7a8128bd",
   "metadata": {},
   "outputs": [],
   "source": [
    "list = [\"apple\", \"grapes\",\"orange\"]\n",
    "list[1] = \"mango\""
   ]
  },
  {
   "cell_type": "code",
   "execution_count": 17,
   "id": "6fdd0383-baf5-4e37-a738-aaeb12fa1f54",
   "metadata": {},
   "outputs": [
    {
     "data": {
      "text/plain": [
       "['apple', 'mango', 'orange']"
      ]
     },
     "execution_count": 17,
     "metadata": {},
     "output_type": "execute_result"
    }
   ],
   "source": [
    "list"
   ]
  },
  {
   "cell_type": "markdown",
   "id": "53713d1b-5fe9-4b1a-8317-037a5b5bcd83",
   "metadata": {},
   "source": [
    "#### 3. Dynamic Size"
   ]
  },
  {
   "cell_type": "markdown",
   "id": "3291c0f4-3761-4e60-8553-3d03e7df8dc6",
   "metadata": {},
   "source": [
    "Lists can grow and shrink in size as you add or remove elements. You don’t need to declare the size of a list when you create it."
   ]
  },
  {
   "cell_type": "code",
   "execution_count": 18,
   "id": "ef6e6d7f-8986-4a6e-a64f-037354d10d09",
   "metadata": {},
   "outputs": [],
   "source": [
    "list = [\"apple\", \"grapes\",\"orange\"]\n",
    "list.append(\"mango\")"
   ]
  },
  {
   "cell_type": "code",
   "execution_count": 19,
   "id": "0c2ebabb-f7b8-4021-bca5-a01dbbaed4d5",
   "metadata": {},
   "outputs": [
    {
     "data": {
      "text/plain": [
       "['apple', 'grapes', 'orange', 'mango']"
      ]
     },
     "execution_count": 19,
     "metadata": {},
     "output_type": "execute_result"
    }
   ],
   "source": [
    "list"
   ]
  },
  {
   "cell_type": "markdown",
   "id": "5f1b022e-a7ba-4029-842c-9c28cb704927",
   "metadata": {},
   "source": [
    "#### 4. Heterogeneous Elements"
   ]
  },
  {
   "cell_type": "markdown",
   "id": "1cba4c91-7909-4a03-b394-81b1dbda8cd3",
   "metadata": {},
   "source": [
    "A list can contain elements of different data types. You can mix integers, floats, strings, and even other lists within a list."
   ]
  },
  {
   "cell_type": "code",
   "execution_count": 20,
   "id": "8a455c85-5d39-465d-9d51-658122ce34ce",
   "metadata": {},
   "outputs": [],
   "source": [
    "list = [\"apple\", \"grapes\",[\"orange\", \"mango\"]]"
   ]
  },
  {
   "cell_type": "code",
   "execution_count": 21,
   "id": "b914e2bd-a593-42d7-a818-6116b7cb30cc",
   "metadata": {},
   "outputs": [
    {
     "data": {
      "text/plain": [
       "['apple', 'grapes', ['orange', 'mango']]"
      ]
     },
     "execution_count": 21,
     "metadata": {},
     "output_type": "execute_result"
    }
   ],
   "source": [
    "list"
   ]
  },
  {
   "cell_type": "markdown",
   "id": "af58b5b6-f3c8-479f-848c-6a90381d8730",
   "metadata": {},
   "source": [
    "#### 5. Indexed Access"
   ]
  },
  {
   "cell_type": "markdown",
   "id": "ddfbe7b1-6686-42df-afb0-63d1489c71dc",
   "metadata": {},
   "source": [
    "You can access individual elements of a list using their index, starting from 0 for the first element. Negative indexing is also supported, where -1 refers to the last element."
   ]
  },
  {
   "cell_type": "code",
   "execution_count": 22,
   "id": "0f30df26-1b21-4738-b995-89aaaec578d3",
   "metadata": {},
   "outputs": [],
   "source": [
    "list = [\"apple\", \"grapes\",\"orange\"]"
   ]
  },
  {
   "cell_type": "code",
   "execution_count": 23,
   "id": "2f0a845f-4cb2-4da3-829b-fbd9ceb2b487",
   "metadata": {},
   "outputs": [
    {
     "data": {
      "text/plain": [
       "'grapes'"
      ]
     },
     "execution_count": 23,
     "metadata": {},
     "output_type": "execute_result"
    }
   ],
   "source": [
    "list[1]"
   ]
  },
  {
   "cell_type": "code",
   "execution_count": 24,
   "id": "9ea7951a-0be2-4b7a-9490-d9d0eda358d4",
   "metadata": {},
   "outputs": [
    {
     "data": {
      "text/plain": [
       "'orange'"
      ]
     },
     "execution_count": 24,
     "metadata": {},
     "output_type": "execute_result"
    }
   ],
   "source": [
    "list[-1]"
   ]
  },
  {
   "cell_type": "markdown",
   "id": "ad4ce67e-782e-4602-a44c-fcaee2a39644",
   "metadata": {},
   "source": [
    "#### 6. Slicing"
   ]
  },
  {
   "cell_type": "markdown",
   "id": "a9e814d5-7fe0-4d45-b0fe-bd732b94d4cb",
   "metadata": {},
   "source": [
    "Lists support slicing, which allows you to access a subset of the list. The syntax is similar to string slicing."
   ]
  },
  {
   "cell_type": "code",
   "execution_count": 25,
   "id": "a3af2979-ed41-4bf2-8c9c-c40b28c975c3",
   "metadata": {},
   "outputs": [
    {
     "data": {
      "text/plain": [
       "[20, 30, 40]"
      ]
     },
     "execution_count": 25,
     "metadata": {},
     "output_type": "execute_result"
    }
   ],
   "source": [
    "my_list = [10, 20, 30, 40, 50]\n",
    "my_list[1:4]  "
   ]
  },
  {
   "cell_type": "markdown",
   "id": "5c3155af-4ec2-49ee-b3af-c62809340231",
   "metadata": {},
   "source": [
    "#### 7. Iteration"
   ]
  },
  {
   "cell_type": "markdown",
   "id": "febf0c53-173c-478b-9111-2943a1158d1e",
   "metadata": {},
   "source": [
    "You can easily iterate over the elements of a list using loops."
   ]
  },
  {
   "cell_type": "code",
   "execution_count": 26,
   "id": "c7f7f0e4-2525-4c09-b52d-942991e811d2",
   "metadata": {},
   "outputs": [
    {
     "name": "stdout",
     "output_type": "stream",
     "text": [
      "apple\n",
      "grapes\n",
      "orange\n"
     ]
    }
   ],
   "source": [
    "list = [\"apple\", \"grapes\",\"orange\"]\n",
    "for item in list:\n",
    "    print(item)"
   ]
  },
  {
   "cell_type": "markdown",
   "id": "62aa0c58-8f55-4e7e-a046-8f8ab7c5b129",
   "metadata": {},
   "source": [
    "#### 8. Comprehensions"
   ]
  },
  {
   "cell_type": "markdown",
   "id": "a30e6c0d-e90d-4a3c-8c56-955c23279f02",
   "metadata": {},
   "source": [
    "Python provides list comprehensions, which offer a concise way to create lists by iterating over an iterable and optionally applying conditions."
   ]
  },
  {
   "cell_type": "code",
   "execution_count": 27,
   "id": "605d6279-2b01-477e-8cc7-f67b1dee00d1",
   "metadata": {},
   "outputs": [
    {
     "name": "stdout",
     "output_type": "stream",
     "text": [
      "[0, 1, 4, 9, 16]\n"
     ]
    }
   ],
   "source": [
    "squares = [x**2 for x in range(5)]\n",
    "print(squares)"
   ]
  },
  {
   "cell_type": "markdown",
   "id": "52d65bf9-5fbd-4f53-b661-f6ae8531f8d9",
   "metadata": {},
   "source": [
    "#### 9. Built-in Functions and Methods"
   ]
  },
  {
   "cell_type": "markdown",
   "id": "ce29b1c2-7265-445a-afcd-e0723def02d5",
   "metadata": {},
   "source": [
    " Lists come with many built-in functions and methods that make it easy to manipulate them:"
   ]
  },
  {
   "cell_type": "markdown",
   "id": "04735f00-9137-4c0e-97ac-5e7cda233108",
   "metadata": {},
   "source": [
    "- len(): Returns the number of elements in the list.\n",
    "- append(): Adds an element to the end of the list.\n",
    "- extend(): Adds multiple elements to the end of the list.\n",
    "- insert(): Inserts an element at a specified index.\n",
    "- remove(): Removes the first occurrence of a specified element.\n",
    "- pop(): Removes and returns the element at the specified index (or the last element if no index is specified).\n",
    "- sort(): Sorts the list in place.\n",
    "- reverse(): Reverses the order of the list in place.\n",
    "- index(): Returns the index of the first occurrence of a specified element.\n",
    "- count(): Returns the number of occurrences of a specified element."
   ]
  },
  {
   "cell_type": "markdown",
   "id": "92d1f09f-fa59-47f7-8b6b-8e4268964544",
   "metadata": {},
   "source": [
    "#### 10. Nesting"
   ]
  },
  {
   "cell_type": "markdown",
   "id": "35e0d484-909a-4f2e-abaa-72da400f2027",
   "metadata": {},
   "source": [
    " Lists can contain other lists as elements, which allows for the creation of complex, multi-dimensional data structures."
   ]
  },
  {
   "cell_type": "code",
   "execution_count": 28,
   "id": "007fb910-818a-4681-b87b-894b5ca45604",
   "metadata": {},
   "outputs": [
    {
     "data": {
      "text/plain": [
       "6"
      ]
     },
     "execution_count": 28,
     "metadata": {},
     "output_type": "execute_result"
    }
   ],
   "source": [
    "list = [[1, 2, 3], [4, 5, 6], [7, 8, 9]]\n",
    "list[1][2]"
   ]
  },
  {
   "cell_type": "markdown",
   "id": "1e210512-8aaa-4583-b9ef-c721c0c2f25f",
   "metadata": {},
   "source": [
    "#### Summary"
   ]
  },
  {
   "cell_type": "markdown",
   "id": "4c8e97f7-bda5-4618-85bb-55a349f77102",
   "metadata": {},
   "source": [
    "Lists in Python are powerful and flexible, allowing for easy data storage and manipulation. Their dynamic nature, coupled with a wide range of methods and functionalities, makes them an essential tool for any Python programmer."
   ]
  },
  {
   "cell_type": "markdown",
   "id": "1a18801c-fc7d-4d00-a528-67ee5566b05b",
   "metadata": {},
   "source": [
    "### Que3. Describe how to access, modify, and delete elements in a list with examples."
   ]
  },
  {
   "cell_type": "markdown",
   "id": "6bb80568-2d68-4a89-b1d0-daad82dff5ae",
   "metadata": {},
   "source": [
    "In Python, lists are ordered, mutable collections of elements, which means you can access, modify, and delete elements in a variety of ways. Here are examples of each operation:"
   ]
  },
  {
   "cell_type": "markdown",
   "id": "1a86383a-cb5f-4274-99f7-6801ec18c322",
   "metadata": {},
   "source": [
    "#### 1. Accessing Elements in a List"
   ]
  },
  {
   "cell_type": "markdown",
   "id": "0d5a8da9-7e9d-4d07-8b47-fb8cb5ab72d7",
   "metadata": {},
   "source": [
    "You can access elements in a list using indexing, slicing, or negative indexing.\n"
   ]
  },
  {
   "cell_type": "markdown",
   "id": "86443df7-a5a6-4f13-83b0-72d6211e15fb",
   "metadata": {},
   "source": [
    "#### Example list"
   ]
  },
  {
   "cell_type": "markdown",
   "id": "28209c91-caa9-4d1c-8ed5-d1af234fb7a2",
   "metadata": {},
   "source": [
    "##### Accessing by index"
   ]
  },
  {
   "cell_type": "code",
   "execution_count": 29,
   "id": "b1e17a88-74a2-4b41-bbe0-740fa09eab07",
   "metadata": {},
   "outputs": [],
   "source": [
    "fruits = ['apple', 'banana', 'mango', 'orange']"
   ]
  },
  {
   "cell_type": "code",
   "execution_count": 30,
   "id": "42d1cdfd-7d83-4e47-b233-f3339be37fd1",
   "metadata": {},
   "outputs": [
    {
     "data": {
      "text/plain": [
       "'banana'"
      ]
     },
     "execution_count": 30,
     "metadata": {},
     "output_type": "execute_result"
    }
   ],
   "source": [
    "fruits[1] "
   ]
  },
  {
   "cell_type": "markdown",
   "id": "a0afa680-9deb-4bc7-ac8b-9242c8c6e844",
   "metadata": {},
   "source": [
    " ##### Accessing with negative indexing "
   ]
  },
  {
   "cell_type": "code",
   "execution_count": 31,
   "id": "b32c347b-2b1e-4d17-9bd5-3c5b7c4a7e1f",
   "metadata": {},
   "outputs": [
    {
     "data": {
      "text/plain": [
       "'orange'"
      ]
     },
     "execution_count": 31,
     "metadata": {},
     "output_type": "execute_result"
    }
   ],
   "source": [
    "fruits[-1]"
   ]
  },
  {
   "cell_type": "markdown",
   "id": "c4f4257e-7b94-4ff8-b086-e22a382e4030",
   "metadata": {},
   "source": [
    "##### Accessing a slice"
   ]
  },
  {
   "cell_type": "code",
   "execution_count": 32,
   "id": "486c944f-e2a4-4109-84ba-5970ed44ed83",
   "metadata": {},
   "outputs": [
    {
     "data": {
      "text/plain": [
       "['banana', 'mango']"
      ]
     },
     "execution_count": 32,
     "metadata": {},
     "output_type": "execute_result"
    }
   ],
   "source": [
    "fruits[1:3] "
   ]
  },
  {
   "cell_type": "markdown",
   "id": "0ecc070a-31da-450b-b9fb-c41d5c131fe6",
   "metadata": {},
   "source": [
    "#### 2. Modifying Elements in a List"
   ]
  },
  {
   "cell_type": "markdown",
   "id": "b90dbc53-b261-478b-9ca1-4971f3df7180",
   "metadata": {},
   "source": [
    "You can modify elements by assigning a new value to a specific index or by using slices to modify multiple values at once."
   ]
  },
  {
   "cell_type": "markdown",
   "id": "c79030b6-f4ab-4d99-b139-cf6a709d1528",
   "metadata": {},
   "source": [
    "#### Example list"
   ]
  },
  {
   "cell_type": "markdown",
   "id": "97aadde6-e1fa-4a6f-a884-79a6536bfe31",
   "metadata": {},
   "source": [
    "##### Modifying a single element"
   ]
  },
  {
   "cell_type": "code",
   "execution_count": 33,
   "id": "76476b3c-2b60-4a32-81a5-5e8958f9987b",
   "metadata": {},
   "outputs": [],
   "source": [
    "fruits = [\"apple\", \"banana\", \"mango\", \"orange\"]"
   ]
  },
  {
   "cell_type": "code",
   "execution_count": 34,
   "id": "299a7161-e1df-4ac8-874b-da1124ae9b8e",
   "metadata": {},
   "outputs": [],
   "source": [
    "fruits[1] = \"grapes\" "
   ]
  },
  {
   "cell_type": "code",
   "execution_count": 35,
   "id": "5b91064b-eef9-4f5e-a102-bcf901f4cf4b",
   "metadata": {},
   "outputs": [
    {
     "name": "stdout",
     "output_type": "stream",
     "text": [
      "['apple', 'grapes', 'mango', 'orange']\n"
     ]
    }
   ],
   "source": [
    "print(fruits)"
   ]
  },
  {
   "cell_type": "markdown",
   "id": "3855e7c3-7d42-4305-a611-0014592337c5",
   "metadata": {},
   "source": [
    "##### Modifying a slice of elements"
   ]
  },
  {
   "cell_type": "code",
   "execution_count": 36,
   "id": "4647a24c-8e0b-4d60-ba17-2ff25eb91506",
   "metadata": {},
   "outputs": [],
   "source": [
    "fruits = [\"apple\", \"banana\", \"mango\", \"orange\"]"
   ]
  },
  {
   "cell_type": "code",
   "execution_count": 37,
   "id": "62db2182-1693-4015-ba87-7b9303b5a8db",
   "metadata": {},
   "outputs": [],
   "source": [
    "fruits[1:3] = [\"grapes\",\"lichi\"] "
   ]
  },
  {
   "cell_type": "code",
   "execution_count": 38,
   "id": "3f96e8be-b66f-470f-b7f8-9cdade19d382",
   "metadata": {},
   "outputs": [
    {
     "name": "stdout",
     "output_type": "stream",
     "text": [
      "['apple', 'grapes', 'lichi', 'orange']\n"
     ]
    }
   ],
   "source": [
    "print(fruits)"
   ]
  },
  {
   "cell_type": "markdown",
   "id": "f3b3528e-c28c-43e1-8ae3-9b02a2da555d",
   "metadata": {},
   "source": [
    "#### 3. Deleting Elements in a List"
   ]
  },
  {
   "cell_type": "markdown",
   "id": "9e2089b1-7da1-41de-85e6-b0067e2a2cf9",
   "metadata": {},
   "source": [
    "You can delete elements using the del statement, remove() method, pop(), or by slicing."
   ]
  },
  {
   "cell_type": "markdown",
   "id": "a0bb32be-ed13-4ddc-a090-d91ef67bff76",
   "metadata": {},
   "source": [
    "#### Example list"
   ]
  },
  {
   "cell_type": "markdown",
   "id": "81202b58-1391-4836-aae0-923b0609ca10",
   "metadata": {},
   "source": [
    "##### Deleting by index"
   ]
  },
  {
   "cell_type": "code",
   "execution_count": 39,
   "id": "6e4c2709-6c6f-4e9a-a0c8-3ef87ad06e16",
   "metadata": {},
   "outputs": [],
   "source": [
    "fruits = [\"apple\", \"banana\", \"mango\", \"orange\"]"
   ]
  },
  {
   "cell_type": "code",
   "execution_count": 40,
   "id": "d3a8b76b-01d4-441b-a949-f5448c041186",
   "metadata": {},
   "outputs": [],
   "source": [
    "del fruits[1] "
   ]
  },
  {
   "cell_type": "code",
   "execution_count": 41,
   "id": "11696763-833f-40d0-8143-71ec7f30dde8",
   "metadata": {},
   "outputs": [
    {
     "name": "stdout",
     "output_type": "stream",
     "text": [
      "['apple', 'mango', 'orange']\n"
     ]
    }
   ],
   "source": [
    "print(fruits)"
   ]
  },
  {
   "cell_type": "markdown",
   "id": "cc801c2c-3248-48e4-9550-6c7d69fe27af",
   "metadata": {},
   "source": [
    "##### Removing an element by value"
   ]
  },
  {
   "cell_type": "code",
   "execution_count": 42,
   "id": "0ec57049-3c19-4224-b009-87bb2be642ce",
   "metadata": {},
   "outputs": [],
   "source": [
    "fruits = [\"apple\", \"banana\", \"mango\", \"orange\"]"
   ]
  },
  {
   "cell_type": "code",
   "execution_count": 43,
   "id": "8192dbb7-a760-4d30-b241-9b8e3f0fa33d",
   "metadata": {},
   "outputs": [],
   "source": [
    "fruits.remove(\"mango\") "
   ]
  },
  {
   "cell_type": "code",
   "execution_count": 44,
   "id": "81b22215-b3e1-448e-a5d6-cc524b09d1fa",
   "metadata": {},
   "outputs": [
    {
     "name": "stdout",
     "output_type": "stream",
     "text": [
      "['apple', 'banana', 'orange']\n"
     ]
    }
   ],
   "source": [
    "print(fruits)"
   ]
  },
  {
   "cell_type": "markdown",
   "id": "ec193fd7-6c49-4e57-a52c-4dede539592c",
   "metadata": {},
   "source": [
    "##### Deleting with pop"
   ]
  },
  {
   "cell_type": "code",
   "execution_count": 45,
   "id": "b7866918-65c5-484f-9ba0-ff566d6c79e5",
   "metadata": {},
   "outputs": [],
   "source": [
    "popped_element = fruits.pop()"
   ]
  },
  {
   "cell_type": "code",
   "execution_count": 46,
   "id": "d3d1cbba-09ad-496d-9f0d-bffdf9337206",
   "metadata": {},
   "outputs": [
    {
     "name": "stdout",
     "output_type": "stream",
     "text": [
      "['apple', 'banana']\n"
     ]
    }
   ],
   "source": [
    "print(fruits) "
   ]
  },
  {
   "cell_type": "code",
   "execution_count": 47,
   "id": "3e889fe0-de03-419f-8f7b-ae5940916c16",
   "metadata": {},
   "outputs": [
    {
     "name": "stdout",
     "output_type": "stream",
     "text": [
      "orange\n"
     ]
    }
   ],
   "source": [
    "print(popped_element)"
   ]
  },
  {
   "cell_type": "markdown",
   "id": "6e5dc37e-128c-4a68-9196-a4ca797ec000",
   "metadata": {},
   "source": [
    "##### Deleting a slice"
   ]
  },
  {
   "cell_type": "code",
   "execution_count": 48,
   "id": "69e15cc2-64c1-42b9-89ca-8b5b404ce4af",
   "metadata": {},
   "outputs": [],
   "source": [
    "fruits = [\"apple\", \"banana\", \"mango\", \"orange\"]"
   ]
  },
  {
   "cell_type": "code",
   "execution_count": 49,
   "id": "3c0527f4-5289-4d93-8121-3b9f88f4cde1",
   "metadata": {},
   "outputs": [],
   "source": [
    "del fruits[1:3] "
   ]
  },
  {
   "cell_type": "code",
   "execution_count": 50,
   "id": "3c7d949d-6aa0-4663-85d5-91c254a4ee86",
   "metadata": {},
   "outputs": [
    {
     "name": "stdout",
     "output_type": "stream",
     "text": [
      "['apple', 'orange']\n"
     ]
    }
   ],
   "source": [
    "print(fruits)"
   ]
  },
  {
   "cell_type": "markdown",
   "id": "20d8671e-f2b2-482d-aac1-50ecf080cb24",
   "metadata": {},
   "source": [
    "#### Summary:"
   ]
  },
  {
   "cell_type": "markdown",
   "id": "2aaf5d47-c860-421d-8a20-9f2b0a8c4129",
   "metadata": {},
   "source": [
    "- Accessing: Use indexing (list[index]) or slicing (list[start:end]).\n",
    "- Modifying: Assign a new value using an index (list[index] = value) or modify slices.\n",
    "- Deleting: Use del, remove(), pop(), or slice deletion to remove elements."
   ]
  },
  {
   "cell_type": "markdown",
   "id": "59df04be-6c55-4dbd-918f-f4c198958a68",
   "metadata": {},
   "source": [
    "### Que4. Compare and contrast tuples and lists with examples."
   ]
  },
  {
   "cell_type": "markdown",
   "id": "4063ae91-8051-4bc6-9168-5b94c05f2693",
   "metadata": {},
   "source": [
    "Both tuples and lists are used to store collections of items in Python, but they have distinct differences in their behavior and use cases. Below is a comparison and contrast of tuples and lists, with examples for clarity."
   ]
  },
  {
   "cell_type": "markdown",
   "id": "51e62acc-2191-4b9e-b8f8-8e5bbe77a81e",
   "metadata": {},
   "source": [
    "#### 1. Mutability:"
   ]
  },
  {
   "cell_type": "markdown",
   "id": "e4a8492d-77dd-4f74-9847-8016139294fa",
   "metadata": {},
   "source": [
    "- Lists: Mutable, meaning you can modify, add, or remove elements after creation.\n",
    "- Tuples: Immutable, meaning once they are created, their elements cannot be modified.\n"
   ]
  },
  {
   "cell_type": "markdown",
   "id": "d97d78d8-2884-4dcf-a3b9-baeb38820ddb",
   "metadata": {},
   "source": [
    "##### Example:"
   ]
  },
  {
   "cell_type": "markdown",
   "id": "ba89c9ef-240f-4eb9-a283-dd4405abb9d9",
   "metadata": {},
   "source": [
    "##### List example (Mutable)"
   ]
  },
  {
   "cell_type": "code",
   "execution_count": 51,
   "id": "9a6610dd-1dd7-42eb-b9ac-691f51eb2fb0",
   "metadata": {},
   "outputs": [],
   "source": [
    "fruits_list = [\"apple\", \"banana\", \"mango\", \"orange\"]"
   ]
  },
  {
   "cell_type": "code",
   "execution_count": 52,
   "id": "dc89c613-9f9d-4732-84c2-47ee4ca49f39",
   "metadata": {},
   "outputs": [],
   "source": [
    "fruits_list[1] = \"grapes\""
   ]
  },
  {
   "cell_type": "code",
   "execution_count": 53,
   "id": "5a63bd16-6542-46be-ae01-9710503d168d",
   "metadata": {},
   "outputs": [
    {
     "name": "stdout",
     "output_type": "stream",
     "text": [
      "['apple', 'grapes', 'mango', 'orange']\n"
     ]
    }
   ],
   "source": [
    "print(fruits_list)"
   ]
  },
  {
   "cell_type": "markdown",
   "id": "3c588feb-e3c6-4c71-b305-57f531183aea",
   "metadata": {},
   "source": [
    "##### Tuple example (Immutable)"
   ]
  },
  {
   "cell_type": "code",
   "execution_count": 54,
   "id": "2a1fd19d-5fe4-4f5f-983b-403e8545a62c",
   "metadata": {},
   "outputs": [],
   "source": [
    "fruits_tuple = (\"apple\", \"banana\", \"mango\", \"orange\")"
   ]
  },
  {
   "cell_type": "code",
   "execution_count": 55,
   "id": "bdb45d1c-bb21-4f0b-8c1c-37cf069094a6",
   "metadata": {},
   "outputs": [],
   "source": [
    "#fruits_tuple[1] = \"grapes\" # This will raise an error: TypeError: 'tuple' object does not support item assignment"
   ]
  },
  {
   "cell_type": "markdown",
   "id": "ed9b3e22-0e9a-48c0-8c26-6341fb57fffc",
   "metadata": {},
   "source": [
    "#### 2. Syntax:"
   ]
  },
  {
   "cell_type": "markdown",
   "id": "2c06ada9-924b-4c1b-bbf2-7e2018efc217",
   "metadata": {},
   "source": [
    "- Lists: Created using square brackets [ ].\n",
    "- Tuples: Created using parentheses ( )."
   ]
  },
  {
   "cell_type": "markdown",
   "id": "29a30671-5b4e-4067-b4a1-534519c82d62",
   "metadata": {},
   "source": [
    "##### Example:"
   ]
  },
  {
   "cell_type": "code",
   "execution_count": 56,
   "id": "4c2dd744-7688-405b-97d7-08661f6a173f",
   "metadata": {},
   "outputs": [],
   "source": [
    "# List\n",
    "my_list = [1, 2, 3]"
   ]
  },
  {
   "cell_type": "code",
   "execution_count": 57,
   "id": "ff1b769a-0b4e-433f-a7ce-78559fb47323",
   "metadata": {},
   "outputs": [],
   "source": [
    "# Tuple\n",
    "my_tuple = (1, 2, 3)"
   ]
  },
  {
   "cell_type": "markdown",
   "id": "1161fd43-9160-4c44-8166-a7d7fb999c34",
   "metadata": {},
   "source": [
    "#### 3. Performance:"
   ]
  },
  {
   "cell_type": "markdown",
   "id": "6403ceb5-624b-4222-adfb-e99aa969344e",
   "metadata": {},
   "source": [
    "- Lists: Slower than tuples when performing operations because they are mutable.\n",
    "- Tuples: Faster than lists, especially when dealing with large amounts of data, due to their immutability."
   ]
  },
  {
   "cell_type": "markdown",
   "id": "0593c4b8-b656-4e86-b639-7155b99a3d2a",
   "metadata": {},
   "source": [
    "#### 4. Use Cases:"
   ]
  },
  {
   "cell_type": "markdown",
   "id": "a2d91480-5d48-4fa1-86f1-3c6ee6f313bb",
   "metadata": {},
   "source": [
    "- Lists: Used when you need a dynamic collection of items that can change over time (e.g., adding/removing elements).\n",
    "- Tuples: Used for fixed collections of items that should not change, such as representing data records, or returning multiple values from a function."
   ]
  },
  {
   "cell_type": "markdown",
   "id": "ba9bbbfb-0781-42d1-a0da-049a64500695",
   "metadata": {},
   "source": [
    "##### Example:"
   ]
  },
  {
   "cell_type": "code",
   "execution_count": 58,
   "id": "fb4b8249-57e6-41a7-82f0-6d60bfe6682e",
   "metadata": {},
   "outputs": [],
   "source": [
    "# List - for a collection of items that may change\n",
    "shopping_list = [\"milk\", \"eggs\", \"bread\"]"
   ]
  },
  {
   "cell_type": "code",
   "execution_count": 59,
   "id": "273ca06e-a72f-4d26-a863-a6c7b037c9e8",
   "metadata": {},
   "outputs": [],
   "source": [
    "shopping_list.append (\"butter\")"
   ]
  },
  {
   "cell_type": "code",
   "execution_count": 60,
   "id": "16804e8b-c9c2-49ff-b696-e04edc9b1524",
   "metadata": {},
   "outputs": [
    {
     "name": "stdout",
     "output_type": "stream",
     "text": [
      "['milk', 'eggs', 'bread', 'butter']\n"
     ]
    }
   ],
   "source": [
    "print(shopping_list)"
   ]
  },
  {
   "cell_type": "code",
   "execution_count": 61,
   "id": "7b6f840c-09ae-42e2-9acf-d4eb4fbe519f",
   "metadata": {},
   "outputs": [],
   "source": [
    "# Tuple - for a collection of fixed items, like coordinates or database records\n",
    "coordinates = (52.516667, 13.388889)"
   ]
  },
  {
   "cell_type": "markdown",
   "id": "51e2b1cf-87b4-48c1-873f-76a8fa67248e",
   "metadata": {},
   "source": [
    "#### 5. Methods:"
   ]
  },
  {
   "cell_type": "markdown",
   "id": "38d52399-8e31-405e-bc2f-542266b11533",
   "metadata": {},
   "source": [
    "- Lists: Have many built-in methods like append(), remove(), pop(), sort(), etc.\n",
    "- Tuples: Have only two methods: count() and index() because they are immutable."
   ]
  },
  {
   "cell_type": "markdown",
   "id": "66bcfe30-fea1-42d4-be5e-1a1cddef9ceb",
   "metadata": {},
   "source": [
    "##### Example:"
   ]
  },
  {
   "cell_type": "code",
   "execution_count": 62,
   "id": "b9f81e13-66f7-4a8d-94a7-49d9f36550fd",
   "metadata": {},
   "outputs": [],
   "source": [
    " # List methods\n",
    "fruits_list = [\"apple\", \"banana\", \"mango\", \"orange\"]"
   ]
  },
  {
   "cell_type": "code",
   "execution_count": 63,
   "id": "25f9eae5-d792-4531-9002-2e6ff44b8d1a",
   "metadata": {},
   "outputs": [],
   "source": [
    "fruits_list.append(\"cherry\")  \n",
    "fruits_list.remove(\"banana\")"
   ]
  },
  {
   "cell_type": "code",
   "execution_count": 64,
   "id": "9283a6d6-2152-438a-882e-21d0cb2d581a",
   "metadata": {},
   "outputs": [
    {
     "name": "stdout",
     "output_type": "stream",
     "text": [
      "['apple', 'mango', 'orange', 'cherry']\n"
     ]
    }
   ],
   "source": [
    "print(fruits_list)"
   ]
  },
  {
   "cell_type": "code",
   "execution_count": 65,
   "id": "97ddee54-f5b2-4d3e-a8d4-72ea22d54108",
   "metadata": {},
   "outputs": [],
   "source": [
    "# Tuple methods\n",
    "fruits_list = [\"apple\", \"banana\", \"mango\", \"orange\"]"
   ]
  },
  {
   "cell_type": "code",
   "execution_count": 66,
   "id": "04592eb2-7d99-4310-918f-6151c7df9000",
   "metadata": {},
   "outputs": [
    {
     "data": {
      "text/plain": [
       "1"
      ]
     },
     "execution_count": 66,
     "metadata": {},
     "output_type": "execute_result"
    }
   ],
   "source": [
    "fruits_list.count(\"banana\")"
   ]
  },
  {
   "cell_type": "code",
   "execution_count": 67,
   "id": "a3578aad-3542-48ea-b3fe-2237eff76a5c",
   "metadata": {},
   "outputs": [
    {
     "data": {
      "text/plain": [
       "3"
      ]
     },
     "execution_count": 67,
     "metadata": {},
     "output_type": "execute_result"
    }
   ],
   "source": [
    "fruits_list.index(\"orange\")"
   ]
  },
  {
   "cell_type": "markdown",
   "id": "624b85a1-7663-421b-8d49-f7576c11b3a1",
   "metadata": {},
   "source": [
    "#### 6. Size:"
   ]
  },
  {
   "cell_type": "markdown",
   "id": "84071f8e-edbd-4208-a9c4-67ad6f82b847",
   "metadata": {},
   "source": [
    "- Lists: Take up more memory since they are dynamic and can be modified.\n",
    "- Tuples: Take up less memory as they are immutable and fixed in size."
   ]
  },
  {
   "cell_type": "markdown",
   "id": "5ebb56eb-d31b-4dae-8845-2cdae122b87e",
   "metadata": {},
   "source": [
    "##### Example:"
   ]
  },
  {
   "cell_type": "code",
   "execution_count": 68,
   "id": "dbc43dbd-8fe0-4019-b069-4f88f3e6009b",
   "metadata": {},
   "outputs": [],
   "source": [
    "my_list = [1, 2, 3]\n",
    "my_tuple = (1, 2, 3)"
   ]
  },
  {
   "cell_type": "code",
   "execution_count": 69,
   "id": "bf06e803-d773-4d8a-9836-6e91b3805609",
   "metadata": {},
   "outputs": [
    {
     "data": {
      "text/plain": [
       "88"
      ]
     },
     "execution_count": 69,
     "metadata": {},
     "output_type": "execute_result"
    }
   ],
   "source": [
    "sys.getsizeof(my_list)"
   ]
  },
  {
   "cell_type": "code",
   "execution_count": 70,
   "id": "a301caa6-48fa-4c3e-8fd3-e91910fef56c",
   "metadata": {},
   "outputs": [
    {
     "data": {
      "text/plain": [
       "64"
      ]
     },
     "execution_count": 70,
     "metadata": {},
     "output_type": "execute_result"
    }
   ],
   "source": [
    "sys.getsizeof(my_tuple)"
   ]
  },
  {
   "cell_type": "markdown",
   "id": "5225b8f0-af5b-4cba-9b71-b89a2a4b16e3",
   "metadata": {},
   "source": [
    "#### 7. Hashability:"
   ]
  },
  {
   "cell_type": "markdown",
   "id": "bc39a3d3-eb51-41a3-a740-7baabba4c78b",
   "metadata": {},
   "source": [
    "- Lists: Not hashable, so they cannot be used as keys in a dictionary.\n",
    "- Tuples: Hashable (if all elements inside are hashable), so they can be used as dictionary keys."
   ]
  },
  {
   "cell_type": "markdown",
   "id": "aebd06b5-0a7c-4b18-8a82-26e48e97fb36",
   "metadata": {},
   "source": [
    "##### Example:"
   ]
  },
  {
   "cell_type": "code",
   "execution_count": 71,
   "id": "c3289179-6931-46ef-91fe-b6404b929e5d",
   "metadata": {},
   "outputs": [],
   "source": [
    "# List cannot be used as a dictionary key\n",
    "# my_dict = {[1, 2, 3]: 'value'}  # TypeError: unhashable type: 'list'"
   ]
  },
  {
   "cell_type": "code",
   "execution_count": 72,
   "id": "bad04077-5ca8-4374-b822-7105907c50fe",
   "metadata": {},
   "outputs": [],
   "source": [
    "# Tuple can be used as a dictionary key\n",
    "my_dict = {(1, 2, 3): \"value\"}"
   ]
  },
  {
   "cell_type": "code",
   "execution_count": 73,
   "id": "041f40c0-b53e-4c17-89a8-7bfd85f6c6ce",
   "metadata": {},
   "outputs": [
    {
     "data": {
      "text/plain": [
       "{(1, 2, 3): 'value'}"
      ]
     },
     "execution_count": 73,
     "metadata": {},
     "output_type": "execute_result"
    }
   ],
   "source": [
    "my_dict"
   ]
  },
  {
   "cell_type": "markdown",
   "id": "dbc381a4-c947-4c20-85a6-17d5c3ad2ac7",
   "metadata": {},
   "source": [
    "#### 8. Nested Structures:"
   ]
  },
  {
   "cell_type": "markdown",
   "id": "f8fca363-ac0d-4fe3-9912-c7f0c8b54180",
   "metadata": {},
   "source": [
    "Both lists and tuples can be nested inside each other, but the same rules of mutability apply."
   ]
  },
  {
   "cell_type": "markdown",
   "id": "012c935e-0e25-4d79-b084-8614abae83a8",
   "metadata": {},
   "source": [
    "##### Example:"
   ]
  },
  {
   "cell_type": "code",
   "execution_count": 74,
   "id": "b66c1a94-ced0-4bbc-85dc-5bcf937b8a4c",
   "metadata": {},
   "outputs": [],
   "source": [
    "nested_list = [[1, 2], [3, 4]]\n",
    "nested_tuple = ((1, 2), (3, 4))"
   ]
  },
  {
   "cell_type": "code",
   "execution_count": 75,
   "id": "2e3037d2-e81d-4200-83be-e7bdb4aa3aba",
   "metadata": {},
   "outputs": [],
   "source": [
    "# You can modify nested lists\n",
    "nested_list[0][0] = 10"
   ]
  },
  {
   "cell_type": "code",
   "execution_count": 76,
   "id": "31297f28-0b50-44dc-9d1e-6f3661d20220",
   "metadata": {},
   "outputs": [
    {
     "data": {
      "text/plain": [
       "[[10, 2], [3, 4]]"
      ]
     },
     "execution_count": 76,
     "metadata": {},
     "output_type": "execute_result"
    }
   ],
   "source": [
    "nested_list"
   ]
  },
  {
   "cell_type": "code",
   "execution_count": 77,
   "id": "c6fd45cb-68c2-4f09-b7f7-e1e384c2708b",
   "metadata": {},
   "outputs": [],
   "source": [
    "# You cannot modify elements inside a tuple\n",
    "# nested_tuple[0][0] = 10  # Raises an error: TypeError: 'tuple' object does not support item assignment"
   ]
  },
  {
   "cell_type": "markdown",
   "id": "e367eb17-dfc1-4e4a-9e82-d751de00749d",
   "metadata": {},
   "source": [
    "### Que 5.  Describe the key features of sets and provide examples of their use."
   ]
  },
  {
   "cell_type": "markdown",
   "id": "3cd43fc7-66d6-4dfe-8f9a-c522d879764d",
   "metadata": {},
   "source": [
    "In Python, a set is an unordered collection of unique elements. Here are the key features of sets:"
   ]
  },
  {
   "cell_type": "markdown",
   "id": "b9c7098a-b15f-48d9-8cb9-71d0ed6bff7b",
   "metadata": {},
   "source": [
    "#### 1. Unordered Collection: \n",
    "Sets do not maintain any particular order of elements, unlike lists or tuples. This means that the position of elements in a set is irrelevant.\n",
    "   "
   ]
  },
  {
   "cell_type": "markdown",
   "id": "3c8948cd-0a19-450e-8cdf-1f6bf05bd99e",
   "metadata": {},
   "source": [
    "##### example:"
   ]
  },
  {
   "cell_type": "code",
   "execution_count": 78,
   "id": "dcabd8fe-888f-4dbc-b840-7ae5f83224ff",
   "metadata": {},
   "outputs": [
    {
     "name": "stdout",
     "output_type": "stream",
     "text": [
      "{1, 2, 3, 4}\n"
     ]
    }
   ],
   "source": [
    "my_set = {3, 1, 4, 2}\n",
    "print(my_set)  # Output might be: {1, 2, 3, 4} or any other order"
   ]
  },
  {
   "cell_type": "markdown",
   "id": "4827c273-fc66-4d61-b177-9dbfa0918783",
   "metadata": {},
   "source": [
    "#### 2. Unique Elements:\n",
    "Sets automatically ensure that all elements are unique. If you add duplicate elements, they will be stored only once."
   ]
  },
  {
   "cell_type": "markdown",
   "id": "98d93e10-ee4d-4eac-a6aa-8b59d02242a3",
   "metadata": {},
   "source": [
    "##### example:"
   ]
  },
  {
   "cell_type": "code",
   "execution_count": 79,
   "id": "72b2b06d-ecda-48f8-a895-84bc0b6941b3",
   "metadata": {},
   "outputs": [
    {
     "name": "stdout",
     "output_type": "stream",
     "text": [
      "{1, 2, 3, 4}\n"
     ]
    }
   ],
   "source": [
    "my_set = {1, 2, 2, 3, 4}\n",
    "print(my_set)  # Output: {1, 2, 3, 4}"
   ]
  },
  {
   "cell_type": "markdown",
   "id": "ec934eb4-1b0a-4524-a6be-b20924ab8673",
   "metadata": {},
   "source": [
    "#### 3. Mutable:\n",
    "Sets can be modified after creation by adding or removing elements. However, the elements themselves must be immutable "
   ]
  },
  {
   "cell_type": "markdown",
   "id": "c495ce60-16ee-4990-a831-a6e6e89d0708",
   "metadata": {},
   "source": [
    "##### example:"
   ]
  },
  {
   "cell_type": "code",
   "execution_count": 80,
   "id": "b6ebaf26-1eb4-4eea-9bb9-554463a4f8f8",
   "metadata": {},
   "outputs": [
    {
     "name": "stdout",
     "output_type": "stream",
     "text": [
      "{1, 3, 4}\n"
     ]
    }
   ],
   "source": [
    "my_set = {1, 2, 3}\n",
    "my_set.add(4)  # Adds 4 to the set\n",
    "my_set.remove(2)  # Removes 2 from the set\n",
    "print(my_set)  # Output: {1, 3, 4}"
   ]
  },
  {
   "cell_type": "markdown",
   "id": "81bf7c62-508e-47ab-a6c2-552a66101f03",
   "metadata": {},
   "source": [
    "#### 4. Set Operations: \n",
    "  Sets support mathematical operations like:\n",
    "- Union (|): Combines elements from both sets.\n",
    "- Intersection (&): Includes only elements common to both sets.\n",
    "- Difference (-): Includes elements in one set but not in another.\n",
    "- Symmetric Difference (^): Elements in either set but not in both."
   ]
  },
  {
   "cell_type": "markdown",
   "id": "630e1217-a678-4374-a288-123d4b5b2c0f",
   "metadata": {},
   "source": [
    "##### example:"
   ]
  },
  {
   "cell_type": "markdown",
   "id": "1ffad414-96a1-41a2-a38a-eac66d4d1e68",
   "metadata": {},
   "source": [
    "If A = {1, 2, 3} and B = {3, 4, 5},\n",
    "A | B results in {1, 2, 3, 4, 5} (union),  \n",
    "A & B results in {3} (intersection)."
   ]
  },
  {
   "cell_type": "markdown",
   "id": "779f9035-3d4e-4fdf-9639-dd344a0ee189",
   "metadata": {},
   "source": [
    "#### 5. No Indexing or Slicing: \n",
    "   Because sets are unordered, you cannot access elements by index like you would with lists or strings."
   ]
  },
  {
   "cell_type": "markdown",
   "id": "5a5fefd0-a9f9-4075-928a-7404bc7e9bbf",
   "metadata": {},
   "source": [
    "#### 6. Efficient Membership Testing: \n",
    "   Sets are optimized for fast membership checks using the in keyword, which is more efficient than using lists or tuples."
   ]
  },
  {
   "cell_type": "markdown",
   "id": "c6dbfd8a-322f-47cb-a964-bcb175febe4c",
   "metadata": {},
   "source": [
    "#### 7. Set Methods: \n",
    "\n",
    "##### Example: \n",
    "1. add(): Adds an element to the set.\n",
    "2. remove(): Removes a specific element from the set. Raises an error if the element is not found.\n",
    "3. discard(): Removes an element if it is present, but does not raise an error if it is absent.\n",
    "4. pop(): Removes and returns an arbitrary element from the set.\n",
    "5. clear(): Removes all elements from the set.\n",
    "6. copy(): Returns a shallow copy of the set."
   ]
  },
  {
   "cell_type": "markdown",
   "id": "782ecb52-4738-4941-8b4a-1acc2ae7a313",
   "metadata": {},
   "source": [
    "#### 8. Frozen Sets:\n",
    "  Python also provides frozenset, an immutable version of a set. Once created, elements cannot be added or removed."
   ]
  },
  {
   "cell_type": "markdown",
   "id": "4daa5be5-016d-4571-a8ad-c70609ebbcbe",
   "metadata": {},
   "source": [
    "##### Example:"
   ]
  },
  {
   "cell_type": "code",
   "execution_count": 81,
   "id": "dda21a86-c170-471b-8dc8-6543cbf283d0",
   "metadata": {},
   "outputs": [],
   "source": [
    "#Creating a set\n",
    "my_set = {1, 2, 3, 4, 5}\n",
    "# Adding an element\n",
    "my_set.add(6)\n",
    "# Removing an element\n",
    "my_set.remove(3)\n",
    "# Performing union\n",
    "another_set = {4, 5, 6, 7}\n",
    "union_set = my_set | another_set  # {1, 2, 4, 5, 6, 7}"
   ]
  },
  {
   "cell_type": "code",
   "execution_count": 82,
   "id": "e515373e-b2a1-40a5-91a5-066f5ae7bcf9",
   "metadata": {},
   "outputs": [
    {
     "name": "stdout",
     "output_type": "stream",
     "text": [
      "{1, 2, 4, 5, 6, 7}\n"
     ]
    }
   ],
   "source": [
    "print(union_set)"
   ]
  },
  {
   "cell_type": "markdown",
   "id": "5330396f-9a97-4600-a91d-31e28cecdf53",
   "metadata": {},
   "source": [
    "#### Examples of Set Use:"
   ]
  },
  {
   "cell_type": "markdown",
   "id": "430c46c2-be29-4294-b435-68daedb5f280",
   "metadata": {},
   "source": [
    "#### 1. Removing Duplicates from a List:  \n",
    "Sets can be used to filter out duplicates from a collection."
   ]
  },
  {
   "cell_type": "code",
   "execution_count": 83,
   "id": "2a3ee2b4-4900-4bbb-9b73-f4f370576724",
   "metadata": {},
   "outputs": [],
   "source": [
    "my_list = [1, 2, 2, 3, 4, 4, 5]"
   ]
  },
  {
   "cell_type": "code",
   "execution_count": 84,
   "id": "5a8d4cc5-23b1-4ea2-a224-a49789b575c0",
   "metadata": {},
   "outputs": [],
   "source": [
    "unique_elements = set(my_list)"
   ]
  },
  {
   "cell_type": "code",
   "execution_count": 85,
   "id": "c04573a1-40df-4938-913d-48b770940c5a",
   "metadata": {},
   "outputs": [
    {
     "data": {
      "text/plain": [
       "{1, 2, 3, 4, 5}"
      ]
     },
     "execution_count": 85,
     "metadata": {},
     "output_type": "execute_result"
    }
   ],
   "source": [
    "unique_elements"
   ]
  },
  {
   "cell_type": "markdown",
   "id": "46e4e940-df44-4eb5-8509-06e0d3c1e0a6",
   "metadata": {},
   "source": [
    "#### 2.Mathematical Set Operations:\n",
    "Sets are useful in scenarios where you need to perform union, intersection, or difference operations, such as working with groups or categories."
   ]
  },
  {
   "cell_type": "code",
   "execution_count": 86,
   "id": "472f46d9-9bf2-481c-a71e-5d8f2b40eaef",
   "metadata": {},
   "outputs": [],
   "source": [
    "group_A = {\"apple\", \"banana\", \"cherry\"}\n",
    "group_B = {\"banana\", \"cherry\", \"dates\"}"
   ]
  },
  {
   "cell_type": "code",
   "execution_count": 87,
   "id": "7054bfc6-a345-42ba-b992-2b94a889fea4",
   "metadata": {},
   "outputs": [],
   "source": [
    "common_fruits = group_A & group_B"
   ]
  },
  {
   "cell_type": "code",
   "execution_count": 88,
   "id": "7172af94-ed7d-4803-a699-37872a9a7bb4",
   "metadata": {},
   "outputs": [
    {
     "data": {
      "text/plain": [
       "{'banana', 'cherry'}"
      ]
     },
     "execution_count": 88,
     "metadata": {},
     "output_type": "execute_result"
    }
   ],
   "source": [
    "common_fruits"
   ]
  },
  {
   "cell_type": "markdown",
   "id": "161621b6-ebfe-47a2-a561-6322e134f422",
   "metadata": {},
   "source": [
    "#### 3. Fast Membership Testing:  \n",
    "When dealing with a large dataset, sets are useful for checking whether an element exists quickly."
   ]
  },
  {
   "cell_type": "code",
   "execution_count": 89,
   "id": "6c01cee0-8dc2-4eea-8017-9fa9f26dc67d",
   "metadata": {},
   "outputs": [
    {
     "name": "stdout",
     "output_type": "stream",
     "text": [
      "Valid user\n"
     ]
    }
   ],
   "source": [
    "user_id = 1001\n",
    "valid_ids = {1001, 1002, 1003}\n",
    "if user_id in valid_ids:\n",
    "    print(\"Valid user\")        "
   ]
  },
  {
   "cell_type": "markdown",
   "id": "2822e056-99c7-4169-8a80-d479a4b0e3d3",
   "metadata": {},
   "source": [
    "#### 4. Removing Elements from a Set:  \n",
    "A set can be used to efficiently keep track of items and remove them once they are no longer needed."
   ]
  },
  {
   "cell_type": "code",
   "execution_count": 90,
   "id": "98716a67-2e99-424b-8816-9ae578a3479c",
   "metadata": {},
   "outputs": [],
   "source": [
    "to_do_tasks = {\"task1\", \"task2\", \"task3\"}\n",
    "to_do_tasks.remove(\"task2\")  "
   ]
  },
  {
   "cell_type": "code",
   "execution_count": 91,
   "id": "7949bbd4-2563-4249-a260-829278445663",
   "metadata": {},
   "outputs": [
    {
     "data": {
      "text/plain": [
       "{'task1', 'task3'}"
      ]
     },
     "execution_count": 91,
     "metadata": {},
     "output_type": "execute_result"
    }
   ],
   "source": [
    "to_do_tasks"
   ]
  },
  {
   "cell_type": "markdown",
   "id": "93b0af72-8b1f-4fda-b7c5-f9a9d982cf4b",
   "metadata": {},
   "source": [
    "### Que 6.  Discuss the use cases o tuples and sets in Python programming."
   ]
  },
  {
   "cell_type": "markdown",
   "id": "a9e43354-2350-40ca-bebd-49ec5a8f3b6a",
   "metadata": {},
   "source": [
    "Tuples and sets are both important data structures in Python, each with distinct characteristics and use cases:"
   ]
  },
  {
   "cell_type": "markdown",
   "id": "d7e6ea8b-d8cb-4abc-8724-5a7d863f70b7",
   "metadata": {},
   "source": [
    "#### Tuples Characteristics:\n",
    "\n",
    "\n",
    "##### 1.Immutable: \n",
    "Once a tuple is created, its elements cannot be modified, added, or removed. This makes tuples useful when you need a collection of items that should not change.\n",
    "\n",
    "##### 2.Ordered: \n",
    "Tuples maintain the order of elements, so the order in which items are added is the order in which they are stored.\n",
    "\n",
    "##### 3.Indexable: \n",
    "You can access elements of a tuple using indexing, similar to lists.\n",
    "\n",
    "##### 4.Hashble:\n",
    "Because tuples are immutable, they can be used as keys in dictionaries.\n",
    "\n",
    "#### Use Cases:\n",
    "\n",
    "##### 1.Fixed Collections: \n",
    "Tuples are ideal for storing a fixed collection of items that shouldn't change, such as coordinates (x, y), RGB color values, or configurations.\n",
    "\n",
    "##### 2.Function Returns:\n",
    "When a function needs to return multiple values, tuples provide a simple way to return them as a single object.\n",
    "\n",
    "##### 3.Dictionary Keys:\n",
    "Since tuples are immutable, they can be used as keys in dictionaries, especially when you need a composite key.\n",
    "\n",
    "##### 4.Data Integrity:\n",
    "When you want to ensure that the data stored in a collection remains constant, tuples are the go-to choice."
   ]
  },
  {
   "cell_type": "markdown",
   "id": "f0977595-34a3-4383-aeda-7b7ab3b376a6",
   "metadata": {},
   "source": [
    "##### Example:"
   ]
  },
  {
   "cell_type": "code",
   "execution_count": 92,
   "id": "cdc7d043-8efc-4d46-bc06-30edf04f4a41",
   "metadata": {},
   "outputs": [],
   "source": [
    "coordinates = (10, 20)\n",
    "rgb_color = (255, 0, 0)"
   ]
  },
  {
   "cell_type": "code",
   "execution_count": 93,
   "id": "657c754f-2092-4dfc-8762-8d1bca72cade",
   "metadata": {},
   "outputs": [],
   "source": [
    "point = (2, 3)"
   ]
  },
  {
   "cell_type": "code",
   "execution_count": 94,
   "id": "3cdf4862-e730-48f7-848e-ef7bfb58c4b4",
   "metadata": {},
   "outputs": [],
   "source": [
    "dictionary = {point: \"This is a point\"}"
   ]
  },
  {
   "cell_type": "markdown",
   "id": "c184b0e0-9cd7-4b97-9d28-a4a1e5580b40",
   "metadata": {},
   "source": [
    "#### Sets Characteristics:\n",
    "\n",
    "\n",
    "##### 1.Mutable (but elements must be immutable):\n",
    "You can add or remove elements from a set, but all elements must be immutable (e.g., numbers, strings, tuples).\n",
    "\n",
    "##### 2.Unordered: \n",
    "Sets do not maintain any specific order of elements.\n",
    "\n",
    "##### 3.No Duplicates: \n",
    "Sets automatically discard duplicate entries, making them useful for operations where uniqueness is required.\n",
    "\n",
    "##### 4.Efficient Membership Testing:\n",
    "Sets are optimized for checking if an item is part of the set.\n",
    "\n",
    "#### Use Cases:\n",
    "\n",
    "##### 1.Removing Duplicates: \n",
    "Sets are perfect for eliminating duplicate values from a collection, such as a list of items where you only need unique elements.\n",
    "\n",
    "##### 2.Membership Testing: \n",
    "Sets allow for fast membership tests, which is useful when you need to check whether an element exists in a collection.\n",
    "\n",
    "##### 3.Set Operations: \n",
    "You can perform mathematical set operations like union, intersection, difference, and symmetric difference, which are helpful in various computational tasks.\n",
    "\n",
    "##### 4.Unordered Collections: \n",
    "When the order of elements doesn’t matter and you only care about uniqueness, sets are an ideal choice."
   ]
  },
  {
   "cell_type": "markdown",
   "id": "7639dc8d-b9d8-4d5b-846b-6bae1cd9b080",
   "metadata": {},
   "source": [
    "##### Example:"
   ]
  },
  {
   "cell_type": "code",
   "execution_count": 95,
   "id": "9db4f24e-dc64-4808-a8c7-478c115fe9fa",
   "metadata": {},
   "outputs": [
    {
     "name": "stdout",
     "output_type": "stream",
     "text": [
      "Banana is in the set\n",
      "{3}\n",
      "{1, 2, 3, 4, 5}\n",
      "{1, 2}\n"
     ]
    }
   ],
   "source": [
    "fruits = {\"apple\", \"banana\", \"cherry\", \"apple\"}  # \"apple\" is stored only once\n",
    "unique_numbers = set([1, 2, 3, 1, 4, 4])  # duplicates removed\n",
    "if \"banana\" in fruits:\n",
    "    print(\"Banana is in the set\")\n",
    "\n",
    "# Set operations\n",
    "a = {1, 2, 3}\n",
    "b = {3, 4, 5}\n",
    "print(a & b)  # Intersection\n",
    "print(a | b)  # Union\n",
    "print(a - b)  # Difference"
   ]
  },
  {
   "cell_type": "markdown",
   "id": "33e317b9-e50c-4d1b-9695-596fa8a0f9a7",
   "metadata": {},
   "source": [
    "#### Summary:\n",
    "\n",
    "Tuples are best used when you need an ordered and immutable collection.\n",
    "\n",
    "Sets are useful for storing unique, unordered elements and performing set operations efficiently."
   ]
  },
  {
   "cell_type": "markdown",
   "id": "b1a5edf1-e951-4356-aff4-6816faa2d1ae",
   "metadata": {},
   "source": [
    "### Que 7: Describe how to add, modify and delete items in a dictionary with examples."
   ]
  },
  {
   "cell_type": "markdown",
   "id": "25cb3623-5c16-4eea-a219-106ac2555422",
   "metadata": {},
   "source": [
    "In Python, dictionaries are mutable data structures that allow you to store key-value pairs. You can easily add, modify, and delete items in a dictionary. Here's how you can do it with examples:"
   ]
  },
  {
   "cell_type": "markdown",
   "id": "c61ae44a-bdb8-4f33-8e91-e8b21821f224",
   "metadata": {},
   "source": [
    "Adding Items to a Dictionary\n",
    "To add an item to a dictionary, you simply assign a value to a new key."
   ]
  },
  {
   "cell_type": "code",
   "execution_count": 96,
   "id": "c6a0cc6c-b5c0-4604-a170-7a6db006d12d",
   "metadata": {},
   "outputs": [],
   "source": [
    "# Create an empty dictionary\n",
    "my_dict = {}\n",
    "\n",
    "# Add a key-value pair\n",
    "my_dict['name'] = 'Alice'\n",
    "my_dict['age'] = 30\n",
    "\n",
    "# Add another key-value pair\n",
    "my_dict['city'] = 'New York'"
   ]
  },
  {
   "cell_type": "code",
   "execution_count": 97,
   "id": "4dca7ffb-5a66-4b01-b5f0-b0f0cd3d6865",
   "metadata": {},
   "outputs": [
    {
     "name": "stdout",
     "output_type": "stream",
     "text": [
      "{'name': 'Alice', 'age': 30, 'city': 'New York'}\n"
     ]
    }
   ],
   "source": [
    "print(my_dict)"
   ]
  },
  {
   "cell_type": "markdown",
   "id": "f4c60265-d2bb-45dd-942d-458bfab30cdf",
   "metadata": {},
   "source": [
    "Modifying Items in a Dictionary\n",
    "To modify an existing item, you can assign a new value to an existing key."
   ]
  },
  {
   "cell_type": "code",
   "execution_count": 98,
   "id": "011c43bd-8256-4d0b-be09-f81f2457f789",
   "metadata": {},
   "outputs": [],
   "source": [
    "# Modify the value associated with the key 'age'\n",
    "my_dict['age'] = 31\n",
    "\n",
    "# Modify the value associated with the key 'city'\n",
    "my_dict['city'] = 'Los Angeles'"
   ]
  },
  {
   "cell_type": "code",
   "execution_count": 99,
   "id": "dd076703-91f2-4491-a94e-0d831845a2bc",
   "metadata": {},
   "outputs": [
    {
     "name": "stdout",
     "output_type": "stream",
     "text": [
      "{'name': 'Alice', 'age': 31, 'city': 'Los Angeles'}\n"
     ]
    }
   ],
   "source": [
    "print(my_dict)"
   ]
  },
  {
   "cell_type": "markdown",
   "id": "3bda699c-a021-45f4-bd02-617cff7673a2",
   "metadata": {},
   "source": [
    "Deleting Items from a Dictionary\n",
    "You can delete items from a dictionary using the del statement, pop() method, or popitem() method.\n",
    "\n",
    "##### 1.Using del to remove a specific key-value pair:"
   ]
  },
  {
   "cell_type": "code",
   "execution_count": 100,
   "id": "349b978b-ef96-487b-ab5a-f1e40bc0be68",
   "metadata": {},
   "outputs": [],
   "source": [
    "# Delete the key-value pair with the key 'city'\n",
    "del my_dict['city']"
   ]
  },
  {
   "cell_type": "code",
   "execution_count": 101,
   "id": "9953a8e6-ed5c-46cc-8313-7d178b5a7d47",
   "metadata": {},
   "outputs": [
    {
     "name": "stdout",
     "output_type": "stream",
     "text": [
      "{'name': 'Alice', 'age': 31}\n"
     ]
    }
   ],
   "source": [
    "print(my_dict)"
   ]
  },
  {
   "cell_type": "markdown",
   "id": "0472edac-3804-492b-a318-9055e9885950",
   "metadata": {},
   "source": [
    "##### 2.Using pop() to remove a key-value pair and return the value:"
   ]
  },
  {
   "cell_type": "code",
   "execution_count": 102,
   "id": "da3a46d1-6f26-46f7-afc1-f7a4919b5ce9",
   "metadata": {},
   "outputs": [
    {
     "name": "stdout",
     "output_type": "stream",
     "text": [
      "{'name': 'Alice'}\n",
      "31\n"
     ]
    }
   ],
   "source": [
    "# Remove the key-value pair with the key 'age' and return its value\n",
    "age = my_dict.pop('age')\n",
    "\n",
    "print(my_dict)  # 'age' is now removed\n",
    "print(age)      # The removed value (31) is returned\n"
   ]
  },
  {
   "cell_type": "markdown",
   "id": "db66fd73-9930-41cb-84cd-0c023a76ef4c",
   "metadata": {},
   "source": [
    "##### 3.Using popitem() to remove the last inserted key-value pair (in Python 3.7+):"
   ]
  },
  {
   "cell_type": "code",
   "execution_count": 103,
   "id": "1879a528-b3c1-4c20-a20e-c0af561fc8f7",
   "metadata": {},
   "outputs": [
    {
     "name": "stdout",
     "output_type": "stream",
     "text": [
      "{'name': 'Alice', 'country': 'USA'}\n",
      "('job', 'Engineer')\n"
     ]
    }
   ],
   "source": [
    "# Add some more key-value pairs\n",
    "my_dict['country'] = 'USA'\n",
    "my_dict['job'] = 'Engineer'\n",
    "\n",
    "# Remove and return the last inserted key-value pair\n",
    "last_item = my_dict.popitem()\n",
    "\n",
    "print(my_dict)  # The last inserted key-value pair is removed\n",
    "print(last_item) # The removed pair is returned as a tuple\n"
   ]
  },
  {
   "cell_type": "markdown",
   "id": "0332b6ee-7b4f-4dda-b814-d88d5d54d1a4",
   "metadata": {},
   "source": [
    "#### Summary\n",
    "\n",
    "##### Adding: \n",
    "Use my_dict[key] = value to add a new key-value pair.\n",
    "\n",
    "##### Modifying: \n",
    "Use my_dict[key] = new_value to update the value associated with an existing key.\n",
    "\n",
    "##### Deleting: \n",
    "Use del my_dict[key], my_dict.pop(key), or my_dict.popitem() to remove items from the dictionary."
   ]
  },
  {
   "cell_type": "markdown",
   "id": "801c1c4c-346d-4164-89d8-fe53bdda8332",
   "metadata": {},
   "source": [
    "### Que 8.  Discuss the importance of dictionary keys being immutable and provde examples."
   ]
  },
  {
   "cell_type": "markdown",
   "id": "585c38c2-a188-40c9-9ab0-ce372050392d",
   "metadata": {},
   "source": [
    "In Python, dictionary keys must be immutable. This immutability requirement is crucial for the efficient and correct functioning of dictionaries, particularly because dictionaries are implemented using hash tables. Here’s why immutable keys are important, along with examples:\n",
    "\n",
    "##### Why Dictionary Keys Must Be Immutable\n",
    "\n",
    "#### 1.Hashability:\n",
    "Python dictionaries use a hash table to store key-value pairs. When a key is added to a dictionary, Python computes the hash of the key to determine where to store the associated value.\n",
    "Mutable objects, such as lists or dictionaries themselves, can change after their creation, leading to inconsistencies in their hash values. If the hash value changes after the key has been placed in the dictionary, it would become impossible to reliably locate the associated value.\n",
    "\n",
    "#### 2.Consistency and Reliability:\n",
    "If dictionary keys were mutable, they could be changed after being added to the dictionary. This could lead to unpredictable behavior, where the key-value pair might become unreachable or even lost within the dictionary, leading to potential bugs and data integrity issues.\n",
    "\n",
    "#### 3.Performance:\n",
    "Immutability ensures that the hashing process is consistent and quick. Since the hash value of an immutable object remains constant, lookups, insertions, and deletions in a dictionary are performed efficiently.\n",
    "\n",
    "Examples of Immutable and Mutable Types\n",
    "                                                                                                                                          \n",
    "#### Immutable types (can be dictionary keys):\n",
    "\n",
    "int, float, str, tuple, frozenset\n",
    "\n",
    "#### Mutable types (cannot be dictionary keys):\n",
    "\n",
    "list, dict, set\n",
    "##### Example 1: \n",
    "##### Using Immutable Keys"
   ]
  },
  {
   "cell_type": "code",
   "execution_count": 104,
   "id": "60bf5a58-5564-4067-8f20-248f2ea03b39",
   "metadata": {},
   "outputs": [
    {
     "name": "stdout",
     "output_type": "stream",
     "text": [
      "{'name': 'Alice', 'age': 30, (40.7128, -74.006): 'New York City'}\n"
     ]
    }
   ],
   "source": [
    "# Using an immutable type (string) as a dictionary key\n",
    "my_dict = {\n",
    "    'name': 'Alice',\n",
    "    'age': 30\n",
    "}\n",
    "\n",
    "# Using an immutable tuple as a key\n",
    "location = (40.7128, -74.0060)  # Tuple representing coordinates (latitude, longitude)\n",
    "my_dict[location] = 'New York City'\n",
    "\n",
    "print(my_dict)"
   ]
  },
  {
   "cell_type": "markdown",
   "id": "6f32820e-76b8-4fe2-b893-dad243fbe068",
   "metadata": {},
   "source": [
    "Here, the string 'name' and the tuple (40.7128, -74.0060) are both immutable and therefore valid dictionary keys."
   ]
  },
  {
   "cell_type": "markdown",
   "id": "4580071b-c02d-4a99-970e-23084d343a24",
   "metadata": {},
   "source": [
    "##### Example 2: \n",
    "##### Attempting to Use a Mutable Key"
   ]
  },
  {
   "cell_type": "code",
   "execution_count": 105,
   "id": "76465a9d-2721-42ff-b519-fc94530c70dc",
   "metadata": {},
   "outputs": [
    {
     "name": "stdout",
     "output_type": "stream",
     "text": [
      "Error: unhashable type: 'list'\n"
     ]
    }
   ],
   "source": [
    "# Trying to use a list as a dictionary key (This will raise an error)\n",
    "my_dict = {}\n",
    "key = [1, 2, 3]\n",
    "\n",
    "# This will raise a TypeError\n",
    "try:\n",
    "    my_dict[key] = 'value'\n",
    "except TypeError as e:\n",
    "    print(f\"Error: {e}\")"
   ]
  },
  {
   "cell_type": "markdown",
   "id": "30bef74c-6d3a-4016-b474-83cd6a33651e",
   "metadata": {},
   "source": [
    "Here, using a list as a dictionary key raises a TypeError because lists are mutable and cannot be hashed."
   ]
  },
  {
   "cell_type": "markdown",
   "id": "1641376d-a95a-4fe1-97af-606d735c901b",
   "metadata": {},
   "source": [
    "##### Example 3: \n",
    "##### Mutability Impact on Hashability"
   ]
  },
  {
   "cell_type": "code",
   "execution_count": 106,
   "id": "13fb8263-c615-48ae-8000-e54821031072",
   "metadata": {},
   "outputs": [
    {
     "name": "stdout",
     "output_type": "stream",
     "text": [
      "Error: unhashable type: 'list'\n"
     ]
    }
   ],
   "source": [
    "# Example of using a tuple (immutable) as a key\n",
    "my_dict = {}\n",
    "key = (1, 2, 3)\n",
    "my_dict[key] = 'Tuple Key'\n",
    "\n",
    "# Now trying with a mutable version of the key (list inside the tuple)\n",
    "mutable_key = (1, 2, [3])\n",
    "\n",
    "# This will raise a TypeError because the list inside the tuple is mutable\n",
    "try:\n",
    "    my_dict[mutable_key] = 'Invalid Key'\n",
    "except TypeError as e:\n",
    "    print(f\"Error: {e}\")\n"
   ]
  },
  {
   "cell_type": "markdown",
   "id": "a3891865-ab1b-42dd-8094-89a200fc92bf",
   "metadata": {},
   "source": [
    "Even though tuples are generally immutable, a tuple containing a mutable element (like a list) is not hashable, thus cannot be used as a dictionary key.\n",
    "\n",
    "#### Summary\n",
    "\n",
    "Dictionary keys must be immutable to ensure that their hash value remains consistent throughout the lifetime of the dictionary entry.\n",
    "\n",
    "Immutable keys allow dictionaries to perform fast and reliable lookups.\n",
    "\n",
    "Attempting to use a mutable object as a dictionary key will result in a TypeError because mutable objects can change, which would break the consistency and integrity of the dictionary."
   ]
  }
 ],
 "metadata": {
  "kernelspec": {
   "display_name": "Python 3 (ipykernel)",
   "language": "python",
   "name": "python3"
  },
  "language_info": {
   "codemirror_mode": {
    "name": "ipython",
    "version": 3
   },
   "file_extension": ".py",
   "mimetype": "text/x-python",
   "name": "python",
   "nbconvert_exporter": "python",
   "pygments_lexer": "ipython3",
   "version": "3.12.4"
  }
 },
 "nbformat": 4,
 "nbformat_minor": 5
}
